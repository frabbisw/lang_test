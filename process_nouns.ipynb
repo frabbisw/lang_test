{
 "cells": [
  {
   "cell_type": "code",
   "execution_count": 1,
   "metadata": {},
   "outputs": [],
   "source": [
    "import unicodedata\n",
    "import string\n",
    "import re\n",
    "import random\n",
    "\n",
    "import enchant\n",
    "d = enchant.Dict(\"en_US\")\n",
    "\n",
    "from textblob import TextBlob as tb"
   ]
  },
  {
   "cell_type": "code",
   "execution_count": 2,
   "metadata": {},
   "outputs": [],
   "source": [
    "art_file_name=\"mini.art.txt\"\n",
    "tit_file_name=\"mini.tit.txt\""
   ]
  },
  {
   "cell_type": "code",
   "execution_count": 3,
   "metadata": {},
   "outputs": [],
   "source": [
    "# Turn a Unicode string to plain ASCII, thanks to\n",
    "# http://stackoverflow.com/a/518232/2809427\n",
    "def unicodeToAscii(s):\n",
    "    return ''.join(\n",
    "        c for c in unicodedata.normalize('NFD', s)\n",
    "        if unicodedata.category(c) != 'Mn'\n",
    "    )\n",
    "\n",
    "# Lowercase, trim, and remove non-letter characters\n",
    "\n",
    "\n",
    "def normalizeString(s):\n",
    "    s = unicodeToAscii(s.lower().strip())\n",
    "    #s = re.sub(r\"([.!?])\", r\" \\1\", s)\n",
    "    #s = re.sub(r\"[^a-zA-Z.!?]+\", r\" \", s)\n",
    "    return s"
   ]
  },
  {
   "cell_type": "code",
   "execution_count": 4,
   "metadata": {},
   "outputs": [],
   "source": [
    "def load_data(articles_file, titles_file):\n",
    "    print(\"Reading lines...\")\n",
    "\n",
    "    # Read the file and split into lines\n",
    "    articles_lines = open(articles_file, encoding='utf-8').read().strip().split('\\n')\n",
    "    titles_lines = open(titles_file, encoding='utf-8').read().strip().split('\\n')\n",
    "\n",
    "    # Split every line into pairs and normalize\n",
    "    articles_lines = [normalizeString(s) for s in articles_lines]\n",
    "    titles_lines = [normalizeString(s) for s in titles_lines]\n",
    "    \n",
    "    for i in range(len(titles_lines)):\n",
    "        titles_lines[i] = titles_lines[i]+\" .\"\n",
    "\n",
    "    return articles_lines, titles_lines"
   ]
  },
  {
   "cell_type": "code",
   "execution_count": 5,
   "metadata": {},
   "outputs": [],
   "source": [
    "def save_data(file_name, lines):\n",
    "    #print(f\"Saving lines... to :{}\")\n",
    "    print(\"Saving lines... to: \"+file_name)\n",
    "    \n",
    "    str = \"\"\n",
    "    for line in lines:\n",
    "        str += line+\"\\n\"\n",
    "    \n",
    "    f = open(file_name, \"w\")\n",
    "    f.write(str)"
   ]
  },
  {
   "cell_type": "code",
   "execution_count": 6,
   "metadata": {},
   "outputs": [
    {
     "name": "stdout",
     "output_type": "stream",
     "text": [
      "Reading lines...\n"
     ]
    }
   ],
   "source": [
    "articles_lines, titles_lines = load_data(\"data/\"+art_file_name,\"data/\"+tit_file_name)"
   ]
  },
  {
   "cell_type": "code",
   "execution_count": 7,
   "metadata": {},
   "outputs": [],
   "source": [
    "def token_noun(lines):\n",
    "    new_lines=[]\n",
    "    for line in lines:\n",
    "        blob = tb(line)\n",
    "        for word in blob.words:\n",
    "            if d.check(str(word)) is False:\n",
    "                blob=blob.replace(word,\"#noun#\")\n",
    "        new_lines.append(str(blob))\n",
    "    return new_lines"
   ]
  },
  {
   "cell_type": "code",
   "execution_count": 8,
   "metadata": {},
   "outputs": [],
   "source": [
    "articles_lines = token_noun(articles_lines)\n",
    "titles_lines = token_noun(titles_lines)"
   ]
  },
  {
   "cell_type": "code",
   "execution_count": null,
   "metadata": {},
   "outputs": [],
   "source": []
  },
  {
   "cell_type": "code",
   "execution_count": 9,
   "metadata": {},
   "outputs": [
    {
     "name": "stdout",
     "output_type": "stream",
     "text": [
      "Saving lines... to: data-noun/mini.art.txt\n",
      "Saving lines... to: data-noun/mini.tit.txt\n"
     ]
    }
   ],
   "source": [
    "save_data(\"data-noun/\"+art_file_name, articles_lines)\n",
    "save_data(\"data-noun/\"+tit_file_name, titles_lines)"
   ]
  },
  {
   "cell_type": "code",
   "execution_count": null,
   "metadata": {},
   "outputs": [],
   "source": []
  }
 ],
 "metadata": {
  "kernelspec": {
   "display_name": "Python 3",
   "language": "python",
   "name": "python3"
  },
  "language_info": {
   "codemirror_mode": {
    "name": "ipython",
    "version": 3
   },
   "file_extension": ".py",
   "mimetype": "text/x-python",
   "name": "python",
   "nbconvert_exporter": "python",
   "pygments_lexer": "ipython3",
   "version": "3.5.2"
  }
 },
 "nbformat": 4,
 "nbformat_minor": 2
}
