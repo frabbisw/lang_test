{
 "cells": [
  {
   "cell_type": "code",
   "execution_count": 17,
   "metadata": {},
   "outputs": [],
   "source": [
    "import unicodedata\n",
    "import string\n",
    "import re\n",
    "import random"
   ]
  },
  {
   "cell_type": "code",
   "execution_count": 18,
   "metadata": {},
   "outputs": [],
   "source": [
    "import enchant\n",
    "dic = enchant.Dict(\"en_US\")"
   ]
  },
  {
   "cell_type": "code",
   "execution_count": 19,
   "metadata": {},
   "outputs": [],
   "source": [
    "from textblob import TextBlob as tb"
   ]
  },
  {
   "cell_type": "code",
   "execution_count": 20,
   "metadata": {},
   "outputs": [],
   "source": [
    "from tqdm import tqdm as tq"
   ]
  },
  {
   "cell_type": "code",
   "execution_count": 21,
   "metadata": {},
   "outputs": [],
   "source": [
    "art_file_name=\"train.article.txt\"\n",
    "tit_file_name=\"train.title.txt\""
   ]
  },
  {
   "cell_type": "code",
   "execution_count": 22,
   "metadata": {},
   "outputs": [],
   "source": [
    "art_file_name=\"mini.art.txt\"\n",
    "tit_file_name=\"mini.tit.txt\""
   ]
  },
  {
   "cell_type": "code",
   "execution_count": 23,
   "metadata": {},
   "outputs": [],
   "source": [
    "# Turn a Unicode string to plain ASCII, thanks to\n",
    "# http://stackoverflow.com/a/518232/2809427\n",
    "def unicodeToAscii(s):\n",
    "    return ''.join(\n",
    "        c for c in unicodedata.normalize('NFD', s)\n",
    "        if unicodedata.category(c) != 'Mn'\n",
    "    )\n",
    "\n",
    "# Lowercase, trim, and remove non-letter characters\n",
    "\n",
    "\n",
    "def normalizeString(s):\n",
    "    s = unicodeToAscii(s.lower().strip())\n",
    "    #s = re.sub(r\"([.!?])\", r\" \\1\", s)\n",
    "    #s = re.sub(r\"[^a-zA-Z.!?]+\", r\" \", s)\n",
    "    return s"
   ]
  },
  {
   "cell_type": "code",
   "execution_count": 24,
   "metadata": {},
   "outputs": [],
   "source": [
    "def load_data(articles_file, titles_file):\n",
    "    print(\"Reading lines...\")\n",
    "    # Read the file and split into lines\n",
    "    articles_lines = open(articles_file, encoding='utf-8').read().strip().split('\\n')\n",
    "    titles_lines = open(titles_file, encoding='utf-8').read().strip().split('\\n')\n",
    "    \n",
    "    print(\"\\tSplitting lines...\")\n",
    "    # Split every line into pairs and normalize\n",
    "    articles_lines = [normalizeString(s) for s in articles_lines]\n",
    "    titles_lines = [normalizeString(s) for s in titles_lines]\n",
    "    \n",
    "    print(\"\\tadding (.) lines...\")\n",
    "    for i in range(len(titles_lines)):\n",
    "        titles_lines[i] = titles_lines[i]+\" .\"\n",
    "\n",
    "    return articles_lines, titles_lines"
   ]
  },
  {
   "cell_type": "code",
   "execution_count": 25,
   "metadata": {},
   "outputs": [],
   "source": [
    "def save_data(file_name, lines):\n",
    "    #print(f\"Saving lines... to :{}\")\n",
    "    print(\"Saving lines... to: \"+file_name)\n",
    "    \n",
    "    str = \"\"\n",
    "    for line in lines:\n",
    "        str += line+\"\\n\"\n",
    "    \n",
    "    f = open(file_name, \"w\")\n",
    "    f.write(str)"
   ]
  },
  {
   "cell_type": "code",
   "execution_count": 26,
   "metadata": {},
   "outputs": [
    {
     "name": "stdout",
     "output_type": "stream",
     "text": [
      "Reading lines...\n",
      "\tSplitting lines...\n",
      "\tadding (.) lines...\n"
     ]
    }
   ],
   "source": [
    "articles_lines, titles_lines = load_data(\"data/\"+art_file_name,\"data/\"+tit_file_name)"
   ]
  },
  {
   "cell_type": "code",
   "execution_count": 27,
   "metadata": {},
   "outputs": [],
   "source": [
    "def token_noun(lines):\n",
    "    new_lines=[]\n",
    "    for line in tq(lines):\n",
    "        blob = tb(line)\n",
    "        cnt=0\n",
    "        for word in blob.words:\n",
    "            if dic.check(str(word)) is False:\n",
    "                blob=blob.replace(word,\"#name\"+str(cnt)+\"#\")\n",
    "                cnt+=1\n",
    "        new_lines.append(str(blob))\n",
    "    return new_lines"
   ]
  },
  {
   "cell_type": "code",
   "execution_count": 28,
   "metadata": {},
   "outputs": [
    {
     "name": "stderr",
     "output_type": "stream",
     "text": [
      "100%|██████████| 20/20 [00:00<00:00, 945.44it/s]\n",
      "100%|██████████| 20/20 [00:00<00:00, 1568.49it/s]\n"
     ]
    }
   ],
   "source": [
    "articles_lines = token_noun(articles_lines)\n",
    "titles_lines = token_noun(titles_lines)"
   ]
  },
  {
   "cell_type": "code",
   "execution_count": 30,
   "metadata": {},
   "outputs": [
    {
     "name": "stdout",
     "output_type": "stream",
     "text": [
      "Saving lines... to: data-mult-name/mini.art.txt\n"
     ]
    }
   ],
   "source": [
    "save_data(\"data-mult-name/\"+art_file_name, articles_lines)"
   ]
  },
  {
   "cell_type": "code",
   "execution_count": 31,
   "metadata": {},
   "outputs": [
    {
     "name": "stdout",
     "output_type": "stream",
     "text": [
      "Saving lines... to: data-mult-name/mini.tit.txt\n"
     ]
    }
   ],
   "source": [
    "save_data(\"data-mult-name/\"+tit_file_name, titles_lines)"
   ]
  },
  {
   "cell_type": "code",
   "execution_count": 32,
   "metadata": {},
   "outputs": [
    {
     "name": "stdout",
     "output_type": "stream",
     "text": [
      "20\n",
      "20\n"
     ]
    }
   ],
   "source": [
    "print(len(articles_lines))\n",
    "print(len(titles_lines))"
   ]
  },
  {
   "cell_type": "code",
   "execution_count": null,
   "metadata": {},
   "outputs": [],
   "source": []
  }
 ],
 "metadata": {
  "kernelspec": {
   "display_name": "Python 3",
   "language": "python",
   "name": "python3"
  },
  "language_info": {
   "codemirror_mode": {
    "name": "ipython",
    "version": 3
   },
   "file_extension": ".py",
   "mimetype": "text/x-python",
   "name": "python",
   "nbconvert_exporter": "python",
   "pygments_lexer": "ipython3",
   "version": "3.5.2"
  }
 },
 "nbformat": 4,
 "nbformat_minor": 2
}
